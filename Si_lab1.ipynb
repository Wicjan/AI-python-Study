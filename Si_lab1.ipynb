{
  "nbformat": 4,
  "nbformat_minor": 0,
  "metadata": {
    "colab": {
      "name": "Si_lab1.ipynb",
      "provenance": [],
      "collapsed_sections": [],
      "authorship_tag": "ABX9TyPlsyUwnIkxrMLvrmeRK7bX",
      "include_colab_link": true
    },
    "kernelspec": {
      "name": "python3",
      "display_name": "Python 3"
    }
  },
  "cells": [
    {
      "cell_type": "markdown",
      "metadata": {
        "id": "view-in-github",
        "colab_type": "text"
      },
      "source": [
        "<a href=\"https://colab.research.google.com/github/Wicjan/AI-python-Study/blob/AI-python/Si_lab1.ipynb\" target=\"_parent\"><img src=\"https://colab.research.google.com/assets/colab-badge.svg\" alt=\"Open In Colab\"/></a>"
      ]
    },
    {
      "cell_type": "code",
      "metadata": {
        "id": "HA1uJuV3qyt9",
        "colab": {
          "base_uri": "https://localhost:8080/",
          "height": 86
        },
        "outputId": "fcb7a6ea-9cac-4c06-b732-97fceae11ab7"
      },
      "source": [
        "import math\n",
        "def pierwiastki_kwa():\n",
        "  b=0\n",
        "  c=0\n",
        "  a = input(\"podaj a: \")\n",
        "  b = input(\"podaj b: \")\n",
        "  c = input(\"podaj c: \")\n",
        "  a=int(a)\n",
        "  b=int(b)\n",
        "  c=int(c)\n",
        "\n",
        "  delta=((b*b)-(4*a*c))\n",
        "\n",
        "  if delta < 0: \n",
        "    wynik = str(\"Funkcja nie ma przecięć z osią x\")\n",
        "  else:\n",
        " \n",
        "    if delta == 0 :\n",
        "      x = -b/(2*a)\n",
        "      wynik = x, x\n",
        "    else:\n",
        "\n",
        "      if delta > 0 :\n",
        "        x = (-b - math.sqrt(delta))/(2*a)\n",
        "        y = (-b + math.sqrt(delta))/(2*a)\n",
        "        wynik = x, y\n",
        "  return wynik\n",
        "\n",
        "pierwiastki_kwa()"
      ],
      "execution_count": null,
      "outputs": [
        {
          "output_type": "stream",
          "text": [
            "podaj a: 1\n",
            "podaj b: 3\n",
            "podaj c: 5\n"
          ],
          "name": "stdout"
        },
        {
          "output_type": "execute_result",
          "data": {
            "application/vnd.google.colaboratory.intrinsic+json": {
              "type": "string"
            },
            "text/plain": [
              "'Funkcja nie ma przecięć z osią x'"
            ]
          },
          "metadata": {
            "tags": []
          },
          "execution_count": 1
        }
      ]
    },
    {
      "cell_type": "code",
      "metadata": {
        "id": "3D3cTETUkEaX",
        "colab": {
          "base_uri": "https://localhost:8080/"
        },
        "outputId": "f913780b-c598-4364-d651-690368a972bc"
      },
      "source": [
        "import random\n",
        "def gra():\n",
        "  y=random.randint(0,10)\n",
        "  p=0\n",
        "  i=0\n",
        "  while i<1:\n",
        "      x=input(\"Podaj liczbe od 1 do 10: \")\n",
        "      x=int(x)\n",
        "      if x ==y:\n",
        "          p=p+1\n",
        "          print(\"Zgadłes, proba \", p)\n",
        "          i=i+1\n",
        "      else:\n",
        "        if x > y:\n",
        "          p=p+1\n",
        "          print (\"Za duzo, proba \", p)\n",
        "        else:\n",
        "          if x < y:\n",
        "            p=p+1\n",
        "            print (\"Za malo, proba \", p)\n",
        "gra()\n"
      ],
      "execution_count": null,
      "outputs": [
        {
          "output_type": "stream",
          "text": [
            "Podaj liczbe od 1 do 10: 5\n",
            "Za duzo, proba  1\n",
            "Podaj liczbe od 1 do 10: 4\n",
            "Za duzo, proba  2\n",
            "Podaj liczbe od 1 do 10: 1\n",
            "Za malo, proba  3\n",
            "Podaj liczbe od 1 do 10: 2\n",
            "Zgadłes, proba  4\n"
          ],
          "name": "stdout"
        }
      ]
    },
    {
      "cell_type": "code",
      "metadata": {
        "id": "g43oY0iRp_hT",
        "colab": {
          "base_uri": "https://localhost:8080/"
        },
        "outputId": "f3f6151c-9496-41a2-f084-4eef80dee669"
      },
      "source": [
        "x=input(\"Podaj ciag: \")\n",
        "x=x.upper()\n",
        "\n",
        "def f_a():\n",
        "  print (\"Długosc ciagu: \",len(x))\n",
        "f_a()\n",
        "\n",
        "def f_b():\n",
        "  i=0\n",
        "  while i<len(x):\n",
        "    if x[i]!=\"T\" and x[i]!=\"A\" and x[i]!=\"G\" and x[i]!=\"C\":\n",
        "     print (\"Ciąg niepoprawny\")\n",
        "     break\n",
        "    i=i+1\n",
        "f_b()\n",
        "\n",
        "def f_c(p):\n",
        "  rnaSel = { \n",
        "    'A': 'T',\n",
        "    'T': 'A',\n",
        "    'G': 'C',\n",
        "    'C': 'G'\n",
        "  }\n",
        "  ret = '' \n",
        "  for i in p: \n",
        "    ret += rnaSel.get(i, '?') \n",
        "  return ret\n",
        "\n",
        "print(\"Kod odpowiadający podanemu kodowi DNA: {0}\".format(f_c(x)))\n",
        "\n",
        "def f_d():\n",
        "  print (\"Odwrócenie: \",x[::-1])\n",
        "\n",
        "f_d()\n",
        "def f_e():\n",
        "  t=0\n",
        "  a=0\n",
        "  g=0\n",
        "  c=0\n",
        "  i=0\n",
        "  while i<len(x):\n",
        "    if x[i]==\"T\":\n",
        "      t=t+1\n",
        "    else:\n",
        "      if x[i]==\"G\":\n",
        "        g=g+1\n",
        "      else:\n",
        "        if x[i]==\"C\":\n",
        "          c=c+1\n",
        "        else:\n",
        "           if x[i]==\"A\":\n",
        "            a=a+1\n",
        "    i=i+1\n",
        "  print(\"Ilosc T: \",t,\" G: \",g,\" C: \",c,\" A: \",a)\n",
        "\n",
        "f_e()\n",
        "\n",
        "def f_f():\n",
        "  i=0\n",
        "  p=0\n",
        "  while i < (len(x)-1):\n",
        "    if x[i:(i+2)]==\"GG\":\n",
        "      p=p+1\n",
        "    i=i+1\n",
        "  print(\"Ilosc GG: \", p)\n",
        "\n",
        "f_f()\n",
        "\n",
        "def f_g():\n",
        "  i=0\n",
        "  p=0\n",
        "  while i < (len(x)-2):\n",
        "    if x[i:(i+3)]==\"ATA\":\n",
        "      p=p+1\n",
        "    i=i+1\n",
        "  print(\"Ilosc ATA: \",p)\n",
        "\n",
        "f_g()"
      ],
      "execution_count": null,
      "outputs": [
        {
          "output_type": "stream",
          "text": [
            "Podaj ciag: thagc\n",
            "Długosc ciagu:  5\n",
            "Ciąg niepoprawny\n",
            "Kod odpowiadający podanemu kodowi DNA: A?TCG\n",
            "Odwrócenie:  CGAHT\n",
            "Ilosc T:  1  G:  1  C:  1  A:  1\n",
            "Ilosc GG:  0\n",
            "Ilosc ATA:  0\n"
          ],
          "name": "stdout"
        }
      ]
    },
    {
      "cell_type": "code",
      "metadata": {
        "id": "MASWmwtwtlYi",
        "colab": {
          "base_uri": "https://localhost:8080/"
        },
        "outputId": "618be876-705d-403a-cc6e-218e4d0e74af"
      },
      "source": [
        "import numpy as np\n",
        "matrix = np.random.randint(-10, 10, (10, 10))\n",
        "print(matrix)\n",
        "print(\"Maksymalna wartość: {0} Minimalna wartość: {1}\".format(np.max(matrix), np.min(matrix)))\n"
      ],
      "execution_count": null,
      "outputs": [
        {
          "output_type": "stream",
          "text": [
            "[[  3  -9   5  -9   8   4  -7   3   3  -8]\n",
            " [  6   4   3  -8   6   2   9  -9   6   4]\n",
            " [  6   0   6  -7   2   2   0  -1   0  -7]\n",
            " [  0  -1  -8  -2   6  -9   3  -4  -9  -4]\n",
            " [ -4  -5  -3   5   3  -4  -3  -9   4   7]\n",
            " [ -4   7  -1   5   2  -6  -7 -10   0  -9]\n",
            " [ -4   5 -10   1   0   7   1  -8  -2   2]\n",
            " [  1  -9  -8   6  -6  -5   3  -7   4   9]\n",
            " [  9   3  -3  -5   5   2   9   1  -6  -4]\n",
            " [  4   7   3  -3  -1   6  -3  -5   0   4]]\n",
            "Maksymalna wartość: 9 Minimalna wartość: -10\n"
          ],
          "name": "stdout"
        }
      ]
    },
    {
      "cell_type": "code",
      "metadata": {
        "id": "qthuJEgYmF0B",
        "colab": {
          "base_uri": "https://localhost:8080/"
        },
        "outputId": "ed341161-f890-48ee-a8a4-5167ac78a481"
      },
      "source": [
        "x = np.ones((5, 5))\n",
        "print(\"Oryginalna macierz:\")\n",
        "print(x)\n",
        "print(\"1 na brzegach i 0 na pozostałych\")\n",
        "x[1:-1, 1:-1] = 0\n",
        "print(x)"
      ],
      "execution_count": null,
      "outputs": [
        {
          "output_type": "stream",
          "text": [
            "Oryginalna macierz:\n",
            "[[1. 1. 1. 1. 1.]\n",
            " [1. 1. 1. 1. 1.]\n",
            " [1. 1. 1. 1. 1.]\n",
            " [1. 1. 1. 1. 1.]\n",
            " [1. 1. 1. 1. 1.]]\n",
            "1 na brzegach i 0 na pozostałych\n",
            "[[1. 1. 1. 1. 1.]\n",
            " [1. 0. 0. 0. 1.]\n",
            " [1. 0. 0. 0. 1.]\n",
            " [1. 0. 0. 0. 1.]\n",
            " [1. 1. 1. 1. 1.]]\n"
          ],
          "name": "stdout"
        }
      ]
    },
    {
      "cell_type": "code",
      "metadata": {
        "id": "XsB5-2UpmW1h",
        "colab": {
          "base_uri": "https://localhost:8080/"
        },
        "outputId": "5829c1f0-f286-4ccf-82dc-467451149c2a"
      },
      "source": [
        "import math\n",
        "matrix1 = np.random.randint(-10, 10, (10, 10))\n",
        "matrix2 = np.random.randint(-10, 10, (10, 10))\n",
        "add = matrix1.__add__(matrix2)\n",
        "print('Macierz A:\\n{0}\\nMacierz B:\\n{1}\\nMacierz wynikowa (dodawanie):\\n{2}'\n",
        "      .format(matrix1, matrix2, add))\n",
        "sub = matrix1.__sub__(matrix2)\n",
        "print('Macierz A:\\n{0}\\nMacierz B:\\n{1}\\nMacierz wynikowa (odejmowanie):\\n{2}'\n",
        "      .format(matrix1, matrix2, sub))\n",
        "mul = matrix1.__mul__(matrix2)\n",
        "print('Macierz A:\\n{0}\\nMacierz B:\\n{1}\\nMacierz wynikowa (mnozenie):\\n{2}'\n",
        "      .format(matrix1, matrix2, mul))\n",
        "\n",
        "matrix1=matrix1*2\n",
        "print (\"Razy 2: \\n\",matrix1)\n",
        "matrix2=matrix2/10\n",
        "print (\"Przez 10: \\n\",matrix2)\n",
        "\n",
        "matrix3 = np.random.randint(-10, 10, (10, 11))\n",
        "size = matrix3.shape\n",
        "\n",
        "x = size[0]\n",
        "y = size[1]\n",
        "\n",
        "print(matrix3)\n",
        "\n",
        "sX1 = 0\n",
        "sX2 = 0\n",
        "sY1 = 0\n",
        "sY2 = 0\n",
        "\n",
        "if x % 2 == 1:\n",
        "  sX1 = round(x / 2) - 1\n",
        "  sX2 = round(x / 2) + 1\n",
        "else:\n",
        "  sX1 = math.ceil(x / 2) - 1\n",
        "  sX2 = math.ceil(x / 2) + 1\n",
        "if y % 2 == 1:\n",
        "  sY1 = round(y / 2) - 1\n",
        "  sY2 = round(y / 2) + 1\n",
        "else:\n",
        "  sY1 = math.ceil(y / 2) - 1\n",
        "  sY2 = math.ceil(y / 2) + 1\n",
        "\n",
        "print(\"wartosci srodkowe: \\n\", matrix3[sX1:sX2, sY1:sY2])"
      ],
      "execution_count": null,
      "outputs": [
        {
          "output_type": "stream",
          "text": [
            "Macierz A:\n",
            "[[  4  -1  -9  -6   8  -2  -6   7   5   0]\n",
            " [  4   8  -7  -4  -9  -7  -4   2   0   2]\n",
            " [  4   1   1   8   3  -1  -3  -2   7   4]\n",
            " [ -7  -4  -7  -3   4  -6   5  -4   2   2]\n",
            " [ -2   5   5  -4   7  -1   9  -2  -8   1]\n",
            " [  5   6   5  -3  -5  -1  -3  -2  -4   9]\n",
            " [-10  -2   8   1   3  -2  -5  -7  -9   4]\n",
            " [ -7   1   3   3  -9   0  -2  -7  -5   8]\n",
            " [  4   1  -4 -10  -5   8   2  -4  -8  -1]\n",
            " [  5  -1 -10   2   4   4   5  -9  -1   7]]\n",
            "Macierz B:\n",
            "[[ -5   5  -2  -3 -10   1  -3   9  -4   3]\n",
            " [-10   5  -4 -10  -3  -2  -2  -3   8  -2]\n",
            " [ -3  -7  -5   3  -5   5   4   6   7  -3]\n",
            " [  6   6  -4  -1  -5   4  -9  -4   2  -6]\n",
            " [ -4   3  -6   4  -7   7 -10  -5   0  -3]\n",
            " [ -5   4   0   0   5   6  -2 -10   6   0]\n",
            " [  7  -7  -5  -6   7  -8  -2   4   3  -2]\n",
            " [  3   1 -10  -4  -9   6   4   5  -5   9]\n",
            " [  7  -3   7   0   4  -1  -9   7  -9  -3]\n",
            " [ -4  -1  -4 -10 -10   4   2   8  -9  -5]]\n",
            "Macierz wynikowa (dodawanie):\n",
            "[[ -1   4 -11  -9  -2  -1  -9  16   1   3]\n",
            " [ -6  13 -11 -14 -12  -9  -6  -1   8   0]\n",
            " [  1  -6  -4  11  -2   4   1   4  14   1]\n",
            " [ -1   2 -11  -4  -1  -2  -4  -8   4  -4]\n",
            " [ -6   8  -1   0   0   6  -1  -7  -8  -2]\n",
            " [  0  10   5  -3   0   5  -5 -12   2   9]\n",
            " [ -3  -9   3  -5  10 -10  -7  -3  -6   2]\n",
            " [ -4   2  -7  -1 -18   6   2  -2 -10  17]\n",
            " [ 11  -2   3 -10  -1   7  -7   3 -17  -4]\n",
            " [  1  -2 -14  -8  -6   8   7  -1 -10   2]]\n",
            "Macierz A:\n",
            "[[  4  -1  -9  -6   8  -2  -6   7   5   0]\n",
            " [  4   8  -7  -4  -9  -7  -4   2   0   2]\n",
            " [  4   1   1   8   3  -1  -3  -2   7   4]\n",
            " [ -7  -4  -7  -3   4  -6   5  -4   2   2]\n",
            " [ -2   5   5  -4   7  -1   9  -2  -8   1]\n",
            " [  5   6   5  -3  -5  -1  -3  -2  -4   9]\n",
            " [-10  -2   8   1   3  -2  -5  -7  -9   4]\n",
            " [ -7   1   3   3  -9   0  -2  -7  -5   8]\n",
            " [  4   1  -4 -10  -5   8   2  -4  -8  -1]\n",
            " [  5  -1 -10   2   4   4   5  -9  -1   7]]\n",
            "Macierz B:\n",
            "[[ -5   5  -2  -3 -10   1  -3   9  -4   3]\n",
            " [-10   5  -4 -10  -3  -2  -2  -3   8  -2]\n",
            " [ -3  -7  -5   3  -5   5   4   6   7  -3]\n",
            " [  6   6  -4  -1  -5   4  -9  -4   2  -6]\n",
            " [ -4   3  -6   4  -7   7 -10  -5   0  -3]\n",
            " [ -5   4   0   0   5   6  -2 -10   6   0]\n",
            " [  7  -7  -5  -6   7  -8  -2   4   3  -2]\n",
            " [  3   1 -10  -4  -9   6   4   5  -5   9]\n",
            " [  7  -3   7   0   4  -1  -9   7  -9  -3]\n",
            " [ -4  -1  -4 -10 -10   4   2   8  -9  -5]]\n",
            "Macierz wynikowa (odejmowanie):\n",
            "[[  9  -6  -7  -3  18  -3  -3  -2   9  -3]\n",
            " [ 14   3  -3   6  -6  -5  -2   5  -8   4]\n",
            " [  7   8   6   5   8  -6  -7  -8   0   7]\n",
            " [-13 -10  -3  -2   9 -10  14   0   0   8]\n",
            " [  2   2  11  -8  14  -8  19   3  -8   4]\n",
            " [ 10   2   5  -3 -10  -7  -1   8 -10   9]\n",
            " [-17   5  13   7  -4   6  -3 -11 -12   6]\n",
            " [-10   0  13   7   0  -6  -6 -12   0  -1]\n",
            " [ -3   4 -11 -10  -9   9  11 -11   1   2]\n",
            " [  9   0  -6  12  14   0   3 -17   8  12]]\n",
            "Macierz A:\n",
            "[[  4  -1  -9  -6   8  -2  -6   7   5   0]\n",
            " [  4   8  -7  -4  -9  -7  -4   2   0   2]\n",
            " [  4   1   1   8   3  -1  -3  -2   7   4]\n",
            " [ -7  -4  -7  -3   4  -6   5  -4   2   2]\n",
            " [ -2   5   5  -4   7  -1   9  -2  -8   1]\n",
            " [  5   6   5  -3  -5  -1  -3  -2  -4   9]\n",
            " [-10  -2   8   1   3  -2  -5  -7  -9   4]\n",
            " [ -7   1   3   3  -9   0  -2  -7  -5   8]\n",
            " [  4   1  -4 -10  -5   8   2  -4  -8  -1]\n",
            " [  5  -1 -10   2   4   4   5  -9  -1   7]]\n",
            "Macierz B:\n",
            "[[ -5   5  -2  -3 -10   1  -3   9  -4   3]\n",
            " [-10   5  -4 -10  -3  -2  -2  -3   8  -2]\n",
            " [ -3  -7  -5   3  -5   5   4   6   7  -3]\n",
            " [  6   6  -4  -1  -5   4  -9  -4   2  -6]\n",
            " [ -4   3  -6   4  -7   7 -10  -5   0  -3]\n",
            " [ -5   4   0   0   5   6  -2 -10   6   0]\n",
            " [  7  -7  -5  -6   7  -8  -2   4   3  -2]\n",
            " [  3   1 -10  -4  -9   6   4   5  -5   9]\n",
            " [  7  -3   7   0   4  -1  -9   7  -9  -3]\n",
            " [ -4  -1  -4 -10 -10   4   2   8  -9  -5]]\n",
            "Macierz wynikowa (mnozenie):\n",
            "[[-20  -5  18  18 -80  -2  18  63 -20   0]\n",
            " [-40  40  28  40  27  14   8  -6   0  -4]\n",
            " [-12  -7  -5  24 -15  -5 -12 -12  49 -12]\n",
            " [-42 -24  28   3 -20 -24 -45  16   4 -12]\n",
            " [  8  15 -30 -16 -49  -7 -90  10   0  -3]\n",
            " [-25  24   0   0 -25  -6   6  20 -24   0]\n",
            " [-70  14 -40  -6  21  16  10 -28 -27  -8]\n",
            " [-21   1 -30 -12  81   0  -8 -35  25  72]\n",
            " [ 28  -3 -28   0 -20  -8 -18 -28  72   3]\n",
            " [-20   1  40 -20 -40  16  10 -72   9 -35]]\n",
            "Razy 2: \n",
            " [[  8  -2 -18 -12  16  -4 -12  14  10   0]\n",
            " [  8  16 -14  -8 -18 -14  -8   4   0   4]\n",
            " [  8   2   2  16   6  -2  -6  -4  14   8]\n",
            " [-14  -8 -14  -6   8 -12  10  -8   4   4]\n",
            " [ -4  10  10  -8  14  -2  18  -4 -16   2]\n",
            " [ 10  12  10  -6 -10  -2  -6  -4  -8  18]\n",
            " [-20  -4  16   2   6  -4 -10 -14 -18   8]\n",
            " [-14   2   6   6 -18   0  -4 -14 -10  16]\n",
            " [  8   2  -8 -20 -10  16   4  -8 -16  -2]\n",
            " [ 10  -2 -20   4   8   8  10 -18  -2  14]]\n",
            "Przez 10: \n",
            " [[-0.5  0.5 -0.2 -0.3 -1.   0.1 -0.3  0.9 -0.4  0.3]\n",
            " [-1.   0.5 -0.4 -1.  -0.3 -0.2 -0.2 -0.3  0.8 -0.2]\n",
            " [-0.3 -0.7 -0.5  0.3 -0.5  0.5  0.4  0.6  0.7 -0.3]\n",
            " [ 0.6  0.6 -0.4 -0.1 -0.5  0.4 -0.9 -0.4  0.2 -0.6]\n",
            " [-0.4  0.3 -0.6  0.4 -0.7  0.7 -1.  -0.5  0.  -0.3]\n",
            " [-0.5  0.4  0.   0.   0.5  0.6 -0.2 -1.   0.6  0. ]\n",
            " [ 0.7 -0.7 -0.5 -0.6  0.7 -0.8 -0.2  0.4  0.3 -0.2]\n",
            " [ 0.3  0.1 -1.  -0.4 -0.9  0.6  0.4  0.5 -0.5  0.9]\n",
            " [ 0.7 -0.3  0.7  0.   0.4 -0.1 -0.9  0.7 -0.9 -0.3]\n",
            " [-0.4 -0.1 -0.4 -1.  -1.   0.4  0.2  0.8 -0.9 -0.5]]\n",
            "[[ -7  -9   1  -6   3   2   1  -9 -10   3   5]\n",
            " [  3   8  -6   6  -9  -1  -8  -5  -9   7 -10]\n",
            " [  8   4   2   8  -5  -9   5  -6   1   9  -2]\n",
            " [  9  -2   3  -6   3  -7  -1   9  -1   6  -8]\n",
            " [  8 -10   6   0   4 -10   2  -1  -5  -5   8]\n",
            " [ -8  -9  -8  -4   8   8   8  -9   5  -7  -9]\n",
            " [  3   4  -7  -4  -6  -1   9  -3   4   2   2]\n",
            " [  8   6   0   1  -7  -4   2  -3  -7  -7   9]\n",
            " [ -4   0  -2   4   2  -3  -4   0  -2   6   7]\n",
            " [  4  -6  -9  -6   3   0   7  -1   3  -7  -7]]\n",
            "wartosci srodkowe: \n",
            " [[-10   2]\n",
            " [  8   8]]\n"
          ],
          "name": "stdout"
        }
      ]
    },
    {
      "cell_type": "code",
      "metadata": {
        "colab": {
          "base_uri": "https://localhost:8080/",
          "height": 513
        },
        "id": "E9dVsUxYocyH",
        "outputId": "40c6b6a4-c962-4593-e5ae-032efb5236b4"
      },
      "source": [
        "import math\n",
        "import matplotlib.pyplot as plt\n",
        "import numpy as np\n",
        "import random\n",
        "\n",
        "x = np.arange(0.0, 7.0, 0.20)\n",
        "y = np.sin(x)\n",
        "plt.plot(x,y,'g-')\n",
        "plt.show()\n",
        "\n",
        "a=2\n",
        "x = np.arange(-2*np.pi, 2*np.pi, 0.2)\n",
        "y = a * np.sin(x-0.25)\n",
        "z = a * np.sin(x-0.5)\n",
        "plt.plot(x,y,'g-')\n",
        "plt.plot(x,z,'r-')\n",
        "plt.show()\n"
      ],
      "execution_count": null,
      "outputs": [
        {
          "output_type": "display_data",
          "data": {
            "image/png": "[encoded data removed]",
            "text/plain": [
              "<Figure size 432x288 with 1 Axes>"
            ]
          },
          "metadata": {
            "tags": [],
            "needs_background": "light"
          }
        },
        {
          "output_type": "display_data",
          "data": {
            "image/png": "[encoded data removed]",
            "text/plain": [
              "<Figure size 432x288 with 1 Axes>"
            ]
          },
          "metadata": {
            "tags": [],
            "needs_background": "light"
          }
        }
      ]
    }
  ]
}